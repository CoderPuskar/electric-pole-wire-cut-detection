{
 "cells": [
  {
   "cell_type": "code",
   "execution_count": 2,
   "id": "4e9dad6c",
   "metadata": {},
   "outputs": [
    {
     "name": "stdout",
     "output_type": "stream",
     "text": [
      "Loading the saved model...\n",
      "Model loaded successfully!\n",
      "\n",
      "Sending this new data to the model: [[1, 0, 1572, 1324, 1387, 1843, 1527, 1402], [0, 1, 1600, 1300, 1400, 1900, 1500, 1450]]\n",
      "\n",
      "--- Model Outputs ---\n",
      "Final Predictions (the class): [0 1]\n",
      "Prediction Probabilities: \n",
      "[[0.82 0.18]\n",
      " [0.04 0.96]]\n",
      "\n",
      "For Sample 1:\n",
      "   -> Predicted Class: 0\n",
      "   -> Confidence: 82.00%\n",
      "\n",
      "For Sample 2:\n",
      "   -> Predicted Class: 1\n",
      "   -> Confidence: 96.00%\n"
     ]
    },
    {
     "name": "stderr",
     "output_type": "stream",
     "text": [
      "c:\\Users\\puska\\anaconda3\\Lib\\site-packages\\sklearn\\utils\\validation.py:2739: UserWarning: X does not have valid feature names, but RandomForestClassifier was fitted with feature names\n",
      "  warnings.warn(\n",
      "c:\\Users\\puska\\anaconda3\\Lib\\site-packages\\sklearn\\utils\\validation.py:2739: UserWarning: X does not have valid feature names, but RandomForestClassifier was fitted with feature names\n",
      "  warnings.warn(\n"
     ]
    }
   ],
   "source": [
    "import joblib\n",
    "import numpy as np\n",
    "\n",
    "print(\"Loading the saved model...\")\n",
    "# 1. LOAD THE MODEL\n",
    "# Load the model you saved from the .pkl file\n",
    "loaded_model = joblib.load('rf_model.pkl')\n",
    "print(\"Model loaded successfully!\")\n",
    "\n",
    "# 2. CREATE NEW INPUT DATA\n",
    "# This data must have the same 8 columns as your training data:\n",
    "# [esp1_vib, esp2_vib, esp1_x, esp1_y, esp1_z, esp2_x, esp2_y, esp2_z]\n",
    "\n",
    "# Let's create two new samples to predict:\n",
    "sample_1 = [1, 0, 1572, 1324, 1387, 1843, 1527, 1402] # Based on your screenshot data\n",
    "sample_2 = [0, 1, 1600, 1300, 1400, 1900, 1500, 1450] # A different new sample\n",
    "\n",
    "# IMPORTANT: You must put them into a 2D list or array. \n",
    "# The model expects a \"batch\" of samples, even if it's just one.\n",
    "new_data_to_predict = [sample_1, sample_2]\n",
    "\n",
    "print(f\"\\nSending this new data to the model: {new_data_to_predict}\")\n",
    "\n",
    "# 3. GET THE MODEL OUTPUT (PREDICTION)\n",
    "# Use .predict() to get the final predicted class (the 'output')\n",
    "output_predictions = loaded_model.predict(new_data_to_predict)\n",
    "\n",
    "# (Optional) Use .predict_proba() to see the \"confidence\" scores\n",
    "# This returns the probability for each class [prob_for_class_0, prob_for_class_1]\n",
    "output_probabilities = loaded_model.predict_proba(new_data_to_predict)\n",
    "\n",
    "# 4. SHOW THE RESULTS\n",
    "print(\"\\n--- Model Outputs ---\")\n",
    "print(f\"Final Predictions (the class): {output_predictions}\")\n",
    "print(f\"Prediction Probabilities: \\n{output_probabilities}\")\n",
    "\n",
    "# Print the result for each sample\n",
    "for i, prediction in enumerate(output_predictions):\n",
    "    print(f\"\\nFor Sample {i+1}:\")\n",
    "    print(f\"   -> Predicted Class: {prediction}\")\n",
    "    print(f\"   -> Confidence: {output_probabilities[i][prediction] * 100:.2f}%\")"
   ]
  },
  {
   "cell_type": "code",
   "execution_count": null,
   "id": "8b1f58e1",
   "metadata": {},
   "outputs": [],
   "source": []
  }
 ],
 "metadata": {
  "kernelspec": {
   "display_name": "base",
   "language": "python",
   "name": "python3"
  },
  "language_info": {
   "codemirror_mode": {
    "name": "ipython",
    "version": 3
   },
   "file_extension": ".py",
   "mimetype": "text/x-python",
   "name": "python",
   "nbconvert_exporter": "python",
   "pygments_lexer": "ipython3",
   "version": "3.13.5"
  }
 },
 "nbformat": 4,
 "nbformat_minor": 5
}
